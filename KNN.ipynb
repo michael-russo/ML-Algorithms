{
 "cells": [
  {
   "cell_type": "code",
   "execution_count": null,
   "id": "8c2ac441-c350-4d9c-97c1-7677963d72b3",
   "metadata": {},
   "outputs": [],
   "source": [
    "import math\n",
    "import random\n",
    "from typing import List"
   ]
  },
  {
   "cell_type": "code",
   "execution_count": null,
   "id": "060a76d1-38a3-4c09-a2ce-044a0d9e93a1",
   "metadata": {},
   "outputs": [],
   "source": [
    "class KNN:\n",
    "    def __init__(self, data:List[List[int]], k: int):\n",
    "        self.data = data\n",
    "        self.k = k\n",
    "        self.clusters ={i: { 'points': []} for i in random.sample(range(len(self.data)), self.k)}\n",
    "        self.initialize()\n",
    "        self.train()\n",
    "\n",
    "    def initialize(self):\n",
    "        self.assign_points_to_centroids()\n",
    "\n",
    "    def train(self):\n",
    "        for i in range(10):\n",
    "            self.find_new_centroids()\n",
    "            self.assign_points_to_centroids()\n",
    "\n",
    "\n",
    "    def assign_points_to_centroids(self):\n",
    "        for i in range(len(self.data)):\n",
    "            if i not in self.clusters:\n",
    "                point = self.data[i]\n",
    "                closest_centroid = None\n",
    "                closed_centroid_distance = float('inf')\n",
    "                for centroid_index in self.clusters:\n",
    "                    centroid = self.data[centroid_index]\n",
    "                    euclindean_distance = self._get_euclidean_distance(point, centroid)\n",
    "                    if euclindean_distance < closed_centroid_distance:\n",
    "                        closed_centroid_distance = euclindean_distance\n",
    "                        closest_centroid = centroid_index\n",
    "\n",
    "                self.clusters[closest_centroid]['points'].append(i)\n",
    "    \n",
    "                \n",
    "    def _get_euclidean_distance(self, point: List[int], centroid: List[int] ) -> int:\n",
    "        return math.sqrt(sum((point[i] - centroid[i]) ** 2 for i in range(len(point))))   \n",
    "\n",
    "\n",
    "    def find_new_centroids(self):\n",
    "        new_centroids = {}\n",
    "\n",
    "        for i in self.clusters:\n",
    "            points = [self.data[i] for i in self.clusters[i]['points']]\n",
    "            centroid_index = self.find_centroid_index(points)\n",
    "            new_centroids[centroid_index] = { 'points': []}\n",
    "\n",
    "        self.clusters = new_centroids\n",
    "        \n",
    "\n",
    "    def find_centroid_index(self, points):\n",
    "        dimension_count = len(points[0]) \n",
    "        mean_coords = [sum(point[dim] for point in points) / len(points) for dim in range(dimension_count)]\n",
    "        \n",
    "        def euclidean_distance(point):\n",
    "            return math.sqrt(sum((point[dim] - mean_coords[dim]) ** 2 for dim in range(dimension_count)))\n",
    "        \n",
    "        closest_index = min(range(len(points)), key=lambda i: euclidean_distance(points[i]))\n",
    "        return closest_index\n",
    "\n"
   ]
  },
  {
   "cell_type": "code",
   "execution_count": null,
   "id": "06ea3c20-d251-4b10-8a0b-f5e66e8a0b37",
   "metadata": {},
   "outputs": [],
   "source": []
  },
  {
   "cell_type": "code",
   "execution_count": null,
   "id": "74d20af3-be97-4b67-8137-cd07e1991eea",
   "metadata": {},
   "outputs": [],
   "source": [
    "def generate_data():\n",
    "    outer_length = 100 \n",
    "    inner_length = 5   \n",
    "    \n",
    "    return [[random.randint(0, 100) for _ in range(inner_length)] for _ in range(outer_length)]\n"
   ]
  },
  {
   "cell_type": "code",
   "execution_count": null,
   "id": "8ab0f8d7-0c17-4b82-b8f5-1a773194dcd7",
   "metadata": {},
   "outputs": [],
   "source": [
    "data = generate_data()\n",
    "k = 5\n"
   ]
  },
  {
   "cell_type": "code",
   "execution_count": null,
   "id": "e40d3df6-06e6-4a82-8b3f-9d0921661cad",
   "metadata": {},
   "outputs": [],
   "source": [
    "\n",
    "knn = KNN(data, k)"
   ]
  },
  {
   "cell_type": "code",
   "execution_count": null,
   "id": "1333dc28-743e-4e4f-adf0-7417b4497bfe",
   "metadata": {},
   "outputs": [],
   "source": [
    "\n"
   ]
  }
 ],
 "metadata": {
  "kernelspec": {
   "display_name": "Python 3 (ipykernel)",
   "language": "python",
   "name": "python3"
  },
  "language_info": {
   "codemirror_mode": {
    "name": "ipython",
    "version": 3
   },
   "file_extension": ".py",
   "mimetype": "text/x-python",
   "name": "python",
   "nbconvert_exporter": "python",
   "pygments_lexer": "ipython3",
   "version": "3.10.6"
  }
 },
 "nbformat": 4,
 "nbformat_minor": 5
}
